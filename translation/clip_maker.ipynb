{
 "cells": [
  {
   "cell_type": "code",
   "execution_count": 10,
   "metadata": {},
   "outputs": [
    {
     "name": "stdout",
     "output_type": "stream",
     "text": [
      "18 segments created in output_segments\n"
     ]
    }
   ],
   "source": [
    "from pydub import AudioSegment\n",
    "import os\n",
    "\n",
    "def split_audio(input_file, output_folder, segment_length_ms=10000):\n",
    "    # Create output folder if it doesn't exist\n",
    "    if not os.path.exists(output_folder):\n",
    "        os.makedirs(output_folder)\n",
    "\n",
    "    # Load the audio file\n",
    "    audio = AudioSegment.from_file(input_file)\n",
    "\n",
    "    # Calculate the number of segments\n",
    "    num_segments = len(audio) // segment_length_ms\n",
    "\n",
    "    # Split the audio into segments\n",
    "    for i in range(num_segments):\n",
    "        start_time = i * segment_length_ms\n",
    "        end_time = (i + 1) * segment_length_ms\n",
    "        segment = audio[start_time:end_time]\n",
    "\n",
    "        # Export each segment\n",
    "        segment.export(f\"{output_folder}/segment_{i}.wav\", format=\"wav\")\n",
    "\n",
    "    print(f\"{num_segments} segments created in {output_folder}\")\n",
    "\n",
    "# Example usage\n",
    "input_file = \"output_file.wav\"  # Provide the path to your input audio file\n",
    "output_folder = \"output_segments\"  # Provide the path to the folder where you want to save the segments\n",
    "split_audio(input_file, output_folder)\n"
   ]
  },
  {
   "cell_type": "code",
   "execution_count": 12,
   "metadata": {},
   "outputs": [
    {
     "name": "stdout",
     "output_type": "stream",
     "text": [
      "10000\n",
      "1.0\n",
      "Converted segment_0.wav to 10.0s and saved as output_segments_10s/segment_0.wav\n",
      "10000\n",
      "1.0\n",
      "Converted segment_1.wav to 10.0s and saved as output_segments_10s/segment_1.wav\n",
      "10000\n",
      "1.0\n",
      "Converted segment_2.wav to 10.0s and saved as output_segments_10s/segment_2.wav\n",
      "10000\n",
      "1.0\n",
      "Converted segment_3.wav to 10.0s and saved as output_segments_10s/segment_3.wav\n",
      "10000\n",
      "1.0\n",
      "Converted segment_4.wav to 10.0s and saved as output_segments_10s/segment_4.wav\n",
      "10000\n",
      "1.0\n",
      "Converted segment_5.wav to 10.0s and saved as output_segments_10s/segment_5.wav\n",
      "10000\n",
      "1.0\n",
      "Converted segment_6.wav to 10.0s and saved as output_segments_10s/segment_6.wav\n",
      "10000\n",
      "1.0\n",
      "Converted segment_7.wav to 10.0s and saved as output_segments_10s/segment_7.wav\n",
      "10000\n",
      "1.0\n",
      "Converted segment_8.wav to 10.0s and saved as output_segments_10s/segment_8.wav\n",
      "10000\n",
      "1.0\n",
      "Converted segment_9.wav to 10.0s and saved as output_segments_10s/segment_9.wav\n",
      "10000\n",
      "1.0\n",
      "Converted segment_10.wav to 10.0s and saved as output_segments_10s/segment_10.wav\n",
      "10000\n",
      "1.0\n",
      "Converted segment_11.wav to 10.0s and saved as output_segments_10s/segment_11.wav\n",
      "10000\n",
      "1.0\n",
      "Converted segment_12.wav to 10.0s and saved as output_segments_10s/segment_12.wav\n",
      "10000\n",
      "1.0\n",
      "Converted segment_13.wav to 10.0s and saved as output_segments_10s/segment_13.wav\n",
      "10000\n",
      "1.0\n",
      "Converted segment_14.wav to 10.0s and saved as output_segments_10s/segment_14.wav\n",
      "10000\n",
      "1.0\n",
      "Converted segment_15.wav to 10.0s and saved as output_segments_10s/segment_15.wav\n",
      "10000\n",
      "1.0\n",
      "Converted segment_16.wav to 10.0s and saved as output_segments_10s/segment_16.wav\n",
      "10000\n",
      "1.0\n",
      "Converted segment_17.wav to 10.0s and saved as output_segments_10s/segment_17.wav\n"
     ]
    }
   ],
   "source": [
    "def convert_to_fixed_duration(input_folder, output_folder, target_duration_ms):\n",
    "    # Create output folder if it doesn't exist\n",
    "    if not os.path.exists(output_folder):\n",
    "        os.makedirs(output_folder)\n",
    "\n",
    "    # Iterate through each file in the input folder\n",
    "    for filename in os.listdir(input_folder):\n",
    "        # Check if the file is a WAV file\n",
    "        if filename.endswith(\".wav\"):\n",
    "            # Load the audio file\n",
    "            audio = AudioSegment.from_file(os.path.join(input_folder, filename))\n",
    "            print(len(audio))\n",
    "\n",
    "            # Calculate the speedup factor based on the input clip's duration\n",
    "            speedup_factor = len(audio)/target_duration_ms # yaha pe shayad fuckup hai\n",
    "\n",
    "\n",
    "\n",
    "            print(speedup_factor)\n",
    "\n",
    "            # Apply the speedup effect\n",
    "            sped_up_audio = audio.speedup(playback_speed=speedup_factor)\n",
    "\n",
    "            # Export the sped-up audio to the output folder\n",
    "            output_file = os.path.join(output_folder, filename)\n",
    "            sped_up_audio.export(output_file, format=\"wav\")\n",
    "\n",
    "            print(f\"Converted {filename} to {target_duration_ms/1000}s and saved as {output_file}\")\n",
    "\n",
    "# Example usage\n",
    "input_folder = \"output_segments\"  # Provide the path to the folder containing the audio clips\n",
    "output_folder = \"output_segments_10s\"  # Provide the path for the folder to save the converted clips\n",
    "target_duration_ms = 10000  # Specify the target duration in milliseconds (e.g., 10000 for 10 seconds)\n",
    "convert_to_fixed_duration(input_folder, output_folder, target_duration_ms)\n",
    "\n"
   ]
  },
  {
   "cell_type": "code",
   "execution_count": 8,
   "metadata": {},
   "outputs": [
    {
     "name": "stdout",
     "output_type": "stream",
     "text": [
      "Combined audio saved to output_combined.wav\n"
     ]
    }
   ],
   "source": [
    "import os\n",
    "\n",
    "def combine_audio_files(input_folder, output_file):\n",
    "    # Create a list to store the AudioSegment objects for each file\n",
    "    audio_segments = []\n",
    "\n",
    "    # Iterate through each file in the input folder\n",
    "    for filename in os.listdir(input_folder):\n",
    "        # Check if the file is a WAV file\n",
    "        if filename.endswith(\".wav\"):\n",
    "            # Load the audio file and append it to the list of segments\n",
    "            audio_segments.append(AudioSegment.from_file(os.path.join(input_folder, filename)))\n",
    "\n",
    "    # Concatenate all audio segments into a single segment\n",
    "    combined_audio = sum(audio_segments)\n",
    "\n",
    "    # Export the combined audio to a single file\n",
    "    combined_audio.export(output_file, format=\"wav\")\n",
    "\n",
    "    print(f\"Combined audio saved to {output_file}\")\n",
    "\n",
    "# Example usage\n",
    "input_folder = \"output_segments_10s\"  # Provide the path to the folder containing the 8-second audio clips\n",
    "output_file = \"output_combined.wav\"  # Provide the path for the combined audio file\n",
    "combine_audio_files(input_folder, output_file)\n"
   ]
  }
 ],
 "metadata": {
  "kernelspec": {
   "display_name": "Python 3",
   "language": "python",
   "name": "python3"
  },
  "language_info": {
   "codemirror_mode": {
    "name": "ipython",
    "version": 3
   },
   "file_extension": ".py",
   "mimetype": "text/x-python",
   "name": "python",
   "nbconvert_exporter": "python",
   "pygments_lexer": "ipython3",
   "version": "3.12.2"
  }
 },
 "nbformat": 4,
 "nbformat_minor": 2
}
