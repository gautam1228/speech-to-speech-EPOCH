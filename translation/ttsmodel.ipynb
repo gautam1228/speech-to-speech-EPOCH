{
 "cells": [
  {
   "cell_type": "code",
   "execution_count": 20,
   "metadata": {},
   "outputs": [],
   "source": [
    "import librosa\n",
    "import numpy as np\n",
    "import noisereduce as nr\n",
    "import webrtcvad\n",
    "from scipy.signal import find_peaks\n",
    "from sklearn.preprocessing import StandardScaler\n",
    "from scipy.signal import find_peaks\n",
    "import os\n",
    "\n",
    "def reduce_noise(audio_data):\n",
    "    stft = librosa.stft(audio_data)\n",
    "    stft_db = librosa.amplitude_to_db(np.abs(stft))\n",
    "    mean_noise = np.mean(stft_db[:, :200], axis=1)\n",
    "    stft_db -= mean_noise[:, np.newaxis]\n",
    "    noise_reduced_audio = librosa.griffinlim(librosa.db_to_amplitude(stft_db))\n",
    "    return noise_reduced_audio\n",
    "\n",
    "import numpy as np\n",
    "import librosa\n",
    "\n",
    "def perform_vad(audio,sr, frame_duration=30, energy_threshold=0.05):\n",
    "    \"\"\"\n",
    "    Perform Voice Activity Detection (VAD) on audio using energy thresholding.\n",
    "    \n",
    "    Args:\n",
    "    - audio (numpy.ndarray): Input audio signal.\n",
    "    - frame_duration (float): Duration of each frame in milliseconds.\n",
    "    - energy_threshold (float): Energy threshold for classifying speech.\n",
    "    \n",
    "    Returns:\n",
    "    - segments (list): List of speech segments identified by VAD.\n",
    "    \"\"\"\n",
    "    samples_per_frame = int(sr * frame_duration / 1000)\n",
    "    \n",
    "    # Calculate energy for each frame\n",
    "    energy = np.array([np.sum(frame ** 2) / len(frame) for frame in np.array_split(audio, len(audio) // samples_per_frame)])\n",
    "    \n",
    "    # Apply thresholding to classify frames as speech or silence\n",
    "    speech_indices = np.where(energy > energy_threshold)[0]\n",
    "    \n",
    "    segments = []\n",
    "    start = None\n",
    "    \n",
    "    for idx in speech_indices:\n",
    "        if start is None:\n",
    "            start = idx\n",
    "        elif segments and idx - segments[-1][-1] > 1:\n",
    "            segments.append((start * samples_per_frame, idx * samples_per_frame))\n",
    "            start = idx\n",
    "    \n",
    "    # If there's remaining speech at the end, add the last segment\n",
    "    if start is not None:\n",
    "        segments.append((start * samples_per_frame, speech_indices[-1] * samples_per_frame))\n",
    "    \n",
    "    return segments\n",
    "\n",
    "def convertNumpytoWav(audio_file):\n",
    "# Example usage\n",
    "    audio_file = \"path/to/your/audio/file.wav\"\n",
    "    audio, sr = librosa.load(audio_file, sr=None)\n",
    "    speech_segments = perform_vad(audio)\n",
    "\n",
    "    print(\"Speech segments:\", speech_segments)\n",
    "\n",
    "\n"
   ]
  },
  {
   "cell_type": "code",
   "execution_count": 3,
   "metadata": {},
   "outputs": [],
   "source": [
    "# Load the WAV audio file\n",
    "audio_file = 'output_file.wav'\n",
    "y, sr = librosa.load(audio_file, sr=None)\n"
   ]
  },
  {
   "cell_type": "code",
   "execution_count": 4,
   "metadata": {},
   "outputs": [],
   "source": [
    "\n",
    "# Resample the audio to a common sampling rate (e.g., 16 kHz) - Preprocessing 1\n",
    "target_sr = 16000\n",
    "y_resampled = librosa.resample(y, orig_sr=44100, target_sr=16000)\n"
   ]
  },
  {
   "cell_type": "code",
   "execution_count": 5,
   "metadata": {},
   "outputs": [],
   "source": [
    "\n",
    "# Normalize the audio to ensure consistent amplitude levels - Preprocessing 2\n",
    "y_normalized = librosa.util.normalize(y_resampled)\n",
    "\n"
   ]
  },
  {
   "cell_type": "code",
   "execution_count": 6,
   "metadata": {},
   "outputs": [],
   "source": [
    "\n",
    "# Remove silence using a threshold (e.g., -40 dB) - Preprocessing 3\n",
    "y_trimmed, _ = librosa.effects.trim(y_normalized, top_db=40)\n",
    "\n",
    "# print(y_trimmed.shape)\n"
   ]
  },
  {
   "cell_type": "code",
   "execution_count": 9,
   "metadata": {},
   "outputs": [
    {
     "name": "stdout",
     "output_type": "stream",
     "text": [
      "[-0.02467542 -0.00395957 -0.00713327 ... -0.00338722  0.00419936\n",
      " -0.00896311]\n"
     ]
    }
   ],
   "source": [
    "\n",
    "# Perform noise reduction using the NoiseReduce library - Preprocessing 4\n",
    "y_denoised = reduce_noise(y_trimmed) \n",
    "print(y_denoised)\n",
    "\n"
   ]
  },
  {
   "cell_type": "code",
   "execution_count": 21,
   "metadata": {},
   "outputs": [],
   "source": [
    "\n",
    "speech_segments = perform_vad(y_denoised, sr)\n"
   ]
  },
  {
   "cell_type": "code",
   "execution_count": null,
   "metadata": {},
   "outputs": [],
   "source": [
    "\n",
    "# Find peaks in the audio signal - Preprocessing 6\n",
    "peaks, _ = find_peaks(np.abs(y_preprocessed5), height=0.5)\n",
    "\n",
    "# Apply compression by reducing the amplitude of peaks\n",
    "compression_factor = 0.5\n",
    "y_compressed = np.copy(y_preprocessed5)\n",
    "y_compressed[peaks] *= compression_factor\n",
    "# Now y_compressed contains the audio with dynamic range compression applied\n",
    "\n"
   ]
  },
  {
   "cell_type": "code",
   "execution_count": null,
   "metadata": {},
   "outputs": [],
   "source": [
    "\n",
    "# Initialize StandardScaler for feature scaling - Preprocessing 7\n",
    "scaler = StandardScaler()\n",
    "\n",
    "# Reshape y_compressed to a 2D array (assuming it's a 1D array representing audio signal)\n",
    "y_reshaped = y_compressed.reshape(-1, 1)\n",
    "\n",
    "# Scale the features (audio samples) using the scaler\n",
    "scaled_audio = scaler.fit_transform(y_reshaped)\n",
    "\n",
    "# Reshape scaled_audio back to 1D array (if needed)\n",
    "scaled_audio = scaled_audio.ravel()\n",
    "\n",
    "# Now scaled_audio contains the scaled audio signal with zero mean and unit variance\n"
   ]
  }
 ],
 "metadata": {
  "kernelspec": {
   "display_name": "Python 3",
   "language": "python",
   "name": "python3"
  },
  "language_info": {
   "codemirror_mode": {
    "name": "ipython",
    "version": 3
   },
   "file_extension": ".py",
   "mimetype": "text/x-python",
   "name": "python",
   "nbconvert_exporter": "python",
   "pygments_lexer": "ipython3",
   "version": "3.11.3"
  }
 },
 "nbformat": 4,
 "nbformat_minor": 2
}
