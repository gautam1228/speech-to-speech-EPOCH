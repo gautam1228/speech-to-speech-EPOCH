{
 "cells": [
  {
   "cell_type": "code",
   "execution_count": 3,
   "metadata": {},
   "outputs": [],
   "source": [
    "import librosa\n",
    "import numpy as np\n",
    "import soundfile as sf\n"
   ]
  },
  {
   "cell_type": "code",
   "execution_count": 5,
   "metadata": {},
   "outputs": [
    {
     "name": "stdout",
     "output_type": "stream",
     "text": [
      "Combined audio saved as: combined_output.wav\n"
     ]
    }
   ],
   "source": [
    "import librosa\n",
    "import numpy as np\n",
    "import soundfile as sf\n",
    "\n",
    "def segment_audio(audio_file, segment_length_sec):\n",
    "    # Load the audio file\n",
    "    y, sr = librosa.load(audio_file, sr=None)\n",
    "\n",
    "    # Calculate segment length in samples\n",
    "    segment_length_samples = int(sr * segment_length_sec)\n",
    "\n",
    "    # Segment the audio into smaller parts\n",
    "    segments = []\n",
    "    for i in range(0, len(y), segment_length_samples):\n",
    "        segment = y[i:i+segment_length_samples]\n",
    "        segments.append(segment)\n",
    "\n",
    "    return segments, sr\n",
    "\n",
    "def normalize_segments(segments, target_avg_volume):\n",
    "    normalized_segments = []\n",
    "    for segment in segments:\n",
    "        # Calculate RMS (average volume) of the segment\n",
    "        rms = np.sqrt(np.mean(segment**2))\n",
    "        \n",
    "        # Normalize the segment to match the target average volume\n",
    "        normalized_segment = segment * (target_avg_volume / rms)\n",
    "        normalized_segments.append(normalized_segment)\n",
    "\n",
    "    return normalized_segments\n",
    "\n",
    "# Example usage\n",
    "audio_file = 'loud.wav'\n",
    "segment_length_sec = 5  # Length of each segment in seconds\n",
    "target_avg_volume = 0.1  # Target average volume (adjust as needed)\n",
    "\n",
    "segments, sr = segment_audio(audio_file, segment_length_sec)\n",
    "normalized_segments = normalize_segments(segments, target_avg_volume)\n",
    "\n",
    "# Concatenate normalized segments into one audio signal\n",
    "combined_audio = np.concatenate(normalized_segments)\n",
    "\n",
    "# Save the combined audio as a new audio file\n",
    "output_file = 'combined_output.wav'\n",
    "sf.write(output_file, combined_audio, sr)\n",
    "print(f\"Combined audio saved as: {output_file}\")\n"
   ]
  },
  {
   "cell_type": "code",
   "execution_count": 7,
   "metadata": {},
   "outputs": [
    {
     "name": "stdout",
     "output_type": "stream",
     "text": [
      "Normalized audio saved as: normalized_output.wav\n"
     ]
    }
   ],
   "source": [
    "def normalize_audio(audio_file, target_avg_volume):\n",
    "    # Load the audio file\n",
    "    y, sr = librosa.load(audio_file, sr=None)\n",
    "\n",
    "    # Calculate RMS (average volume) of the entire audio file\n",
    "    rms = np.sqrt(np.mean(y**2))\n",
    "\n",
    "    # Normalize the audio to match the target average volume\n",
    "    normalized_audio = y * (target_avg_volume / rms)\n",
    "\n",
    "    return normalized_audio, sr\n",
    "\n",
    "# Example usage\n",
    "audio_file = 'loud.wav'\n",
    "target_avg_volume = 0.2  # Target average volume (adjust as needed)\n",
    "\n",
    "normalized_audio, sr = normalize_audio(audio_file, target_avg_volume)\n",
    "\n",
    "# Save the normalized audio as a new audio file\n",
    "output_file = 'normalized_output.wav'\n",
    "sf.write(output_file, normalized_audio, sr)\n",
    "print(f\"Normalized audio saved as: {output_file}\")\n"
   ]
  }
 ],
 "metadata": {
  "kernelspec": {
   "display_name": "Python 3",
   "language": "python",
   "name": "python3"
  },
  "language_info": {
   "codemirror_mode": {
    "name": "ipython",
    "version": 3
   },
   "file_extension": ".py",
   "mimetype": "text/x-python",
   "name": "python",
   "nbconvert_exporter": "python",
   "pygments_lexer": "ipython3",
   "version": "3.11.8"
  }
 },
 "nbformat": 4,
 "nbformat_minor": 2
}
