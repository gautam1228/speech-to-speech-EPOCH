{
 "cells": [
  {
   "cell_type": "code",
   "execution_count": 18,
   "metadata": {},
   "outputs": [],
   "source": [
    "import pandas as pd\n",
    "import os\n",
    "from google.cloud import translate_v2 as translate\n",
    "\n",
    "# Set up Google Cloud credentials\n",
    "os.environ[\"GOOGLE_APPLICATION_CREDENTIALS\"] = \"credentials.json\"\n",
    "\n",
    "# Configure translation client\n",
    "client = translate.Client()\n",
    "\n",
    "def translate_text(row, target_language = \"hi\"):\n",
    "    try:\n",
    "        text = row['en']\n",
    "        # Perform translation\n",
    "        result = client.translate(text, target_language=target_language)\n",
    "\n",
    "        # Extract translated text from response\n",
    "        translated_text = result[\"translatedText\"]\n",
    "        \n",
    "        return translated_text\n",
    "    except Exception as e:\n",
    "        print(\"Error when translating:\", e)\n",
    "        return None\n",
    "\n",
    "# # Example usage:\n",
    "# text_to_translate = \"We want riise to be a very successful event\"\n",
    "# target_language = \"hi\"  # French\n",
    "# translated_text = translate_text(text_to_translate, target_language)\n",
    "\n"
   ]
  },
  {
   "cell_type": "code",
   "execution_count": 19,
   "metadata": {},
   "outputs": [],
   "source": [
    "english_data = pd.read_csv(\"english_texts.csv\", sep=\"|\")\n",
    "\n",
    "english_data['hi'] = english_data.head(9000).apply(translate_text, axis=1)\n",
    "english_data.to_csv(\"english_texts_output.csv\", index=False)\n"
   ]
  }
 ],
 "metadata": {
  "kernelspec": {
   "display_name": "Python 3",
   "language": "python",
   "name": "python3"
  },
  "language_info": {
   "codemirror_mode": {
    "name": "ipython",
    "version": 3
   },
   "file_extension": ".py",
   "mimetype": "text/x-python",
   "name": "python",
   "nbconvert_exporter": "python",
   "pygments_lexer": "ipython3",
   "version": "3.12.2"
  }
 },
 "nbformat": 4,
 "nbformat_minor": 2
}
