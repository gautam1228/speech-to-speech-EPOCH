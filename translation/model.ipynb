{
 "cells": [
  {
   "cell_type": "code",
   "execution_count": null,
   "metadata": {},
   "outputs": [],
   "source": [
    "import os\n",
    "import numpy as np\n",
    "import tensorflow as tf\n",
    "from tensorflow.keras import layers, models\n"
   ]
  },
  {
   "cell_type": "code",
   "execution_count": null,
   "metadata": {},
   "outputs": [],
   "source": [
    "\n",
    "# Function to load audio samples from directory\n",
    "def load_audio_samples(directory, max_length=None):\n",
    "    audio_samples = []\n",
    "    for filename in os.listdir(directory):\n",
    "        if filename.endswith(\".npy\"):\n",
    "            file_path = os.path.join(directory, filename)\n",
    "            audio = np.load(file_path)\n",
    "            if max_length is not None:\n",
    "                # Pad or truncate audio samples to a fixed length\n",
    "                audio = pad_or_truncate(audio, max_length)\n",
    "            audio_samples.append(audio)\n",
    "    return np.array(audio_samples)\n"
   ]
  },
  {
   "cell_type": "code",
   "execution_count": null,
   "metadata": {},
   "outputs": [],
   "source": [
    "\n",
    "# Function to pad or truncate audio samples to a fixed length\n",
    "def pad_or_truncate(audio, max_length):\n",
    "    if len(audio) < max_length:\n",
    "        audio = np.pad(audio, (0, max_length - len(audio)), mode='constant')\n",
    "    elif len(audio) > max_length:\n",
    "        audio = audio[:max_length]\n",
    "    return audio\n",
    "\n",
    "# Load audio samples from directories\n",
    "eng_audio_directory = \"eng_audios\"\n",
    "hindi_audio_directory = \"hin_audios\"\n"
   ]
  },
  {
   "cell_type": "code",
   "execution_count": null,
   "metadata": {},
   "outputs": [],
   "source": [
    "\n",
    "# Find the maximum length of audio samples\n",
    "max_length_eng = max(len(np.load(os.path.join(eng_audio_directory, filename))) for filename in os.listdir(eng_audio_directory))\n",
    "max_length_hindi = max(len(np.load(os.path.join(hindi_audio_directory, filename))) for filename in os.listdir(hindi_audio_directory))\n",
    "max_length = max(max_length_eng, max_length_hindi)\n",
    "\n",
    "X_audio = load_audio_samples(eng_audio_directory, max_length=max_length)\n",
    "print(X_audio.shape)\n",
    "y_audio = load_audio_samples(hindi_audio_directory, max_length=max_length)\n",
    "print(y_audio.shape)\n"
   ]
  },
  {
   "cell_type": "code",
   "execution_count": null,
   "metadata": {},
   "outputs": [],
   "source": [
    "\n",
    "# Define the encoder\n",
    "encoder_input = layers.Input(shape=(None, 1))  # Input shape is (timesteps, features)\n",
    "encoder_lstm = layers.LSTM(256, return_state=True)\n",
    "_, encoder_state_h, encoder_state_c = encoder_lstm(encoder_input)\n",
    "encoder_states = [encoder_state_h, encoder_state_c]\n"
   ]
  },
  {
   "cell_type": "code",
   "execution_count": null,
   "metadata": {},
   "outputs": [],
   "source": [
    "\n",
    "# Define the decoder\n",
    "decoder_input = layers.Input(shape=(None, 1))  # Input shape is (timesteps, features)\n",
    "decoder_lstm = layers.LSTM(256, return_sequences=True, return_state=True)\n",
    "decoder_output, _, _ = decoder_lstm(decoder_input, initial_state=encoder_states)\n",
    "decoder_dense = layers.Dense(1, activation='linear')\n",
    "decoder_output = decoder_dense(decoder_output)\n"
   ]
  },
  {
   "cell_type": "code",
   "execution_count": null,
   "metadata": {},
   "outputs": [],
   "source": [
    "\n",
    "# Define the seq2seq model\n",
    "model = models.Model([encoder_input, decoder_input], decoder_output)\n",
    "\n",
    "# Compile the model\n",
    "model.compile(optimizer='adam', loss='mse')\n"
   ]
  },
  {
   "cell_type": "code",
   "execution_count": null,
   "metadata": {},
   "outputs": [],
   "source": [
    "\n",
    "# Train the model\n",
    "model.fit([X_audio[:, :, np.newaxis], y_audio[:, :, np.newaxis]], y_audio[:, :, np.newaxis], batch_size=32, epochs=10, validation_split=0.2)\n",
    "\n",
    "# Save the model\n",
    "model.save('speech_translation_model.h5')\n"
   ]
  }
 ],
 "metadata": {
  "language_info": {
   "name": "python"
  }
 },
 "nbformat": 4,
 "nbformat_minor": 2
}
