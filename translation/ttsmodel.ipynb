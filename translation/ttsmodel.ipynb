{
 "cells": [
  {
   "cell_type": "code",
   "execution_count": 1,
   "metadata": {},
   "outputs": [
    {
     "name": "stderr",
     "output_type": "stream",
     "text": [
      "c:\\Users\\mehul\\AppData\\Local\\Programs\\Python\\Python311\\Lib\\site-packages\\tqdm\\auto.py:21: TqdmWarning: IProgress not found. Please update jupyter and ipywidgets. See https://ipywidgets.readthedocs.io/en/stable/user_install.html\n",
      "  from .autonotebook import tqdm as notebook_tqdm\n"
     ]
    }
   ],
   "source": [
    "import librosa\n",
    "import numpy as np\n",
    "import noisereduce as nr\n",
    "import webrtcvad\n",
    "from scipy.signal import find_peaks\n",
    "from sklearn.preprocessing import StandardScaler\n",
    "from scipy.signal import find_peaks\n",
    "import os\n",
    "\n",
    "def reduce_noise(audio_data):\n",
    "    stft = librosa.stft(audio_data)\n",
    "    stft_db = librosa.amplitude_to_db(np.abs(stft))\n",
    "    mean_noise = np.mean(stft_db[:, :200], axis=1)\n",
    "    stft_db -= mean_noise[:, np.newaxis]\n",
    "    noise_reduced_audio = librosa.griffinlim(librosa.db_to_amplitude(stft_db))\n",
    "    return noise_reduced_audio\n",
    "\n",
    "\n"
   ]
  },
  {
   "cell_type": "code",
   "execution_count": 3,
   "metadata": {},
   "outputs": [],
   "source": [
    "# Load the WAV audio file\n",
    "audio_file = 'output_file.wav'\n",
    "y, sr = librosa.load(audio_file, sr=None)\n"
   ]
  },
  {
   "cell_type": "code",
   "execution_count": 4,
   "metadata": {},
   "outputs": [],
   "source": [
    "\n",
    "# Resample the audio to a common sampling rate (e.g., 16 kHz) - Preprocessing 1\n",
    "target_sr = 16000\n",
    "y_resampled = librosa.resample(y, orig_sr=44100, target_sr=16000)\n"
   ]
  },
  {
   "cell_type": "code",
   "execution_count": 5,
   "metadata": {},
   "outputs": [],
   "source": [
    "\n",
    "# Normalize the audio to ensure consistent amplitude levels - Preprocessing 2\n",
    "y_normalized = librosa.util.normalize(y_resampled)\n",
    "\n"
   ]
  },
  {
   "cell_type": "code",
   "execution_count": 6,
   "metadata": {},
   "outputs": [],
   "source": [
    "\n",
    "# Remove silence using a threshold (e.g., -40 dB) - Preprocessing 3\n",
    "y_trimmed, _ = librosa.effects.trim(y_normalized, top_db=40)\n",
    "\n",
    "# print(y_trimmed.shape)\n"
   ]
  },
  {
   "cell_type": "code",
   "execution_count": 9,
   "metadata": {},
   "outputs": [
    {
     "name": "stdout",
     "output_type": "stream",
     "text": [
      "[-0.02467542 -0.00395957 -0.00713327 ... -0.00338722  0.00419936\n",
      " -0.00896311]\n"
     ]
    }
   ],
   "source": [
    "\n",
    "# Perform noise reduction using the NoiseReduce library - Preprocessing 4\n",
    "y_denoised = reduce_noise(y_trimmed) \n",
    "print(y_denoised)\n",
    "\n"
   ]
  },
  {
   "cell_type": "code",
   "execution_count": 11,
   "metadata": {},
   "outputs": [
    {
     "ename": "Error",
     "evalue": "Error while processing frame",
     "output_type": "error",
     "traceback": [
      "\u001b[1;31m---------------------------------------------------------------------------\u001b[0m",
      "\u001b[1;31mError\u001b[0m                                     Traceback (most recent call last)",
      "Cell \u001b[1;32mIn[11], line 10\u001b[0m\n\u001b[0;32m      8\u001b[0m \u001b[38;5;28;01mfor\u001b[39;00m i \u001b[38;5;129;01min\u001b[39;00m \u001b[38;5;28mrange\u001b[39m(\u001b[38;5;241m0\u001b[39m, \u001b[38;5;28mlen\u001b[39m(y_denoised), samples_per_frame):\n\u001b[0;32m      9\u001b[0m     segment \u001b[38;5;241m=\u001b[39m y_denoised[i:i\u001b[38;5;241m+\u001b[39msamples_per_frame]\n\u001b[1;32m---> 10\u001b[0m     \u001b[38;5;28;01mif\u001b[39;00m \u001b[43mvad\u001b[49m\u001b[38;5;241;43m.\u001b[39;49m\u001b[43mis_speech\u001b[49m\u001b[43m(\u001b[49m\u001b[43msegment\u001b[49m\u001b[38;5;241;43m.\u001b[39;49m\u001b[43mtobytes\u001b[49m\u001b[43m(\u001b[49m\u001b[43m)\u001b[49m\u001b[43m,\u001b[49m\u001b[43m \u001b[49m\u001b[43msr\u001b[49m\u001b[43m)\u001b[49m:\n\u001b[0;32m     11\u001b[0m         segments\u001b[38;5;241m.\u001b[39mappend(segment)\n\u001b[0;32m     13\u001b[0m \u001b[38;5;66;03m# Concatenate the speech segments into a single NumPy array\u001b[39;00m\n",
      "File \u001b[1;32mc:\\Users\\mehul\\AppData\\Local\\Programs\\Python\\Python311\\Lib\\site-packages\\webrtcvad.py:27\u001b[0m, in \u001b[0;36mVad.is_speech\u001b[1;34m(self, buf, sample_rate, length)\u001b[0m\n\u001b[0;32m     23\u001b[0m \u001b[38;5;28;01mif\u001b[39;00m length \u001b[38;5;241m*\u001b[39m \u001b[38;5;241m2\u001b[39m \u001b[38;5;241m>\u001b[39m \u001b[38;5;28mlen\u001b[39m(buf):\n\u001b[0;32m     24\u001b[0m     \u001b[38;5;28;01mraise\u001b[39;00m \u001b[38;5;167;01mIndexError\u001b[39;00m(\n\u001b[0;32m     25\u001b[0m         \u001b[38;5;124m'\u001b[39m\u001b[38;5;124mbuffer has \u001b[39m\u001b[38;5;132;01m%s\u001b[39;00m\u001b[38;5;124m frames, but length argument was \u001b[39m\u001b[38;5;132;01m%s\u001b[39;00m\u001b[38;5;124m'\u001b[39m \u001b[38;5;241m%\u001b[39m (\n\u001b[0;32m     26\u001b[0m             \u001b[38;5;28mint\u001b[39m(\u001b[38;5;28mlen\u001b[39m(buf) \u001b[38;5;241m/\u001b[39m \u001b[38;5;241m2.0\u001b[39m), length))\n\u001b[1;32m---> 27\u001b[0m \u001b[38;5;28;01mreturn\u001b[39;00m \u001b[43m_webrtcvad\u001b[49m\u001b[38;5;241;43m.\u001b[39;49m\u001b[43mprocess\u001b[49m\u001b[43m(\u001b[49m\u001b[38;5;28;43mself\u001b[39;49m\u001b[38;5;241;43m.\u001b[39;49m\u001b[43m_vad\u001b[49m\u001b[43m,\u001b[49m\u001b[43m \u001b[49m\u001b[43msample_rate\u001b[49m\u001b[43m,\u001b[49m\u001b[43m \u001b[49m\u001b[43mbuf\u001b[49m\u001b[43m,\u001b[49m\u001b[43m \u001b[49m\u001b[43mlength\u001b[49m\u001b[43m)\u001b[49m\n",
      "\u001b[1;31mError\u001b[0m: Error while processing frame"
     ]
    }
   ],
   "source": [
    "\n",
    "# Initialize VAD with aggressiveness level (0-3) - Preprocessing 5\n",
    "vad = webrtcvad.Vad(2)\n",
    "\n",
    "# Segment the audio into frames and perform VAD\n",
    "frame_duration = 30  # Frame duration in milliseconds\n",
    "samples_per_frame = int(sr * frame_duration / 1000)\n",
    "segments = []\n",
    "for i in range(0, len(y_denoised), samples_per_frame):\n",
    "    segment = y_denoised[i:i+samples_per_frame]\n",
    "    if vad.is_speech(segment.tobytes(), sr):\n",
    "        segments.append(segment)\n",
    "\n",
    "# Concatenate the speech segments into a single NumPy array\n",
    "y_preprocessed5 = np.concatenate(segments)\n",
    "# Now segments contain the speech segments detected by VAD\n"
   ]
  },
  {
   "cell_type": "code",
   "execution_count": null,
   "metadata": {},
   "outputs": [],
   "source": [
    "\n",
    "# Find peaks in the audio signal - Preprocessing 6\n",
    "peaks, _ = find_peaks(np.abs(y_preprocessed5), height=0.5)\n",
    "\n",
    "# Apply compression by reducing the amplitude of peaks\n",
    "compression_factor = 0.5\n",
    "y_compressed = np.copy(y_preprocessed5)\n",
    "y_compressed[peaks] *= compression_factor\n",
    "# Now y_compressed contains the audio with dynamic range compression applied\n",
    "\n"
   ]
  },
  {
   "cell_type": "code",
   "execution_count": null,
   "metadata": {},
   "outputs": [],
   "source": [
    "\n",
    "# Initialize StandardScaler for feature scaling - Preprocessing 7\n",
    "scaler = StandardScaler()\n",
    "\n",
    "# Reshape y_compressed to a 2D array (assuming it's a 1D array representing audio signal)\n",
    "y_reshaped = y_compressed.reshape(-1, 1)\n",
    "\n",
    "# Scale the features (audio samples) using the scaler\n",
    "scaled_audio = scaler.fit_transform(y_reshaped)\n",
    "\n",
    "# Reshape scaled_audio back to 1D array (if needed)\n",
    "scaled_audio = scaled_audio.ravel()\n",
    "\n",
    "# Now scaled_audio contains the scaled audio signal with zero mean and unit variance\n"
   ]
  }
 ],
 "metadata": {
  "kernelspec": {
   "display_name": "Python 3",
   "language": "python",
   "name": "python3"
  },
  "language_info": {
   "codemirror_mode": {
    "name": "ipython",
    "version": 3
   },
   "file_extension": ".py",
   "mimetype": "text/x-python",
   "name": "python",
   "nbconvert_exporter": "python",
   "pygments_lexer": "ipython3",
   "version": "3.11.3"
  }
 },
 "nbformat": 4,
 "nbformat_minor": 2
}
